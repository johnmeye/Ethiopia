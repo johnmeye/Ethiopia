{
 "cells": [
  {
   "cell_type": "code",
   "execution_count": 1,
   "metadata": {},
   "outputs": [],
   "source": [
    "from urllib.request import urlopen\n",
    "import json\n",
    "import pandas as pd\n",
    "import numpy as np\n",
    "import seaborn as sns\n",
    "import matplotlib.pyplot as plt\n",
    "%matplotlib inline\n",
    "\n",
    "#For the Map Plotting\n",
    "import plotly\n",
    "import plotly.express as px\n",
    "\n",
    "#For the Inline display of figures.\n",
    "from IPython.display import HTML\n",
    "from IPython.display import IFrame\n",
    "\n",
    "#For the Widgets\n",
    "import ipywidgets as widgets #Importing Widgets to allow for the changing of variables on the fly as questions are asked."
   ]
  },
  {
   "cell_type": "code",
   "execution_count": 2,
   "metadata": {},
   "outputs": [],
   "source": [
    "#Pull the Data I stored in my Github account for the analysis.\n",
    "\n",
    "with urlopen('https://github.com/johnmeye/Ethiopia/raw/master/Ethiopia_JSON/eth_admbnda_adm1_csa_bofed_20190827.json') as response:\n",
    "    counties1 = json.load(response)\n",
    "    \n",
    "with urlopen('https://github.com/johnmeye/Ethiopia/raw/master/Ethiopia_JSON/eth_admbnda_adm2_csa_bofed_20190827.json') as response:\n",
    "    counties2 = json.load(response)\n",
    "    \n",
    "with urlopen('https://github.com/johnmeye/Ethiopia/raw/master/Ethiopia_JSON/eth_admbnda_adm3_csa_bofed_20190827.json') as response:\n",
    "    counties3 = json.load(response)\n",
    "\n",
    "#Feature Data is available in the JSON files but its easier to manage from a tableset so i have pulled this below as well.\n",
    "    \n",
    "Boundaries_Data1 = pd.read_excel(\"https://github.com/johnmeye/Ethiopia/raw/master/eth_adminboundaries_tabulardata.xlsx\",\n",
    "                  sheet_name='Admin1')\n",
    "\n",
    "Boundaries_Data2 = pd.read_excel(\"https://github.com/johnmeye/Ethiopia/raw/master/eth_adminboundaries_tabulardata.xlsx\",\n",
    "                    sheet_name='Admin2')\n",
    "\n",
    "Boundaries_Data3 = pd.read_excel(\"https://github.com/johnmeye/Ethiopia/raw/master/eth_adminboundaries_tabulardata.xlsx\",\n",
    "                    sheet_name='Admin3')\n"
   ]
  },
  {
   "cell_type": "code",
   "execution_count": 3,
   "metadata": {},
   "outputs": [],
   "source": [
    "def CHOROMAP(DF,JSON,LOCATION,FEATUREKEY,COLOR,RANGE_L,RANGE_U, TITLE):\n",
    "    Figure = px.choropleth_mapbox(DF, \n",
    "                        geojson=JSON, \n",
    "                        locations=LOCATION, featureidkey=FEATUREKEY,\n",
    "                        color=COLOR,\n",
    "                        color_continuous_scale=\"portland\",\n",
    "                        range_color=(RANGE_L, RANGE_U),\n",
    "                        mapbox_style=\"carto-positron\",\n",
    "                        zoom=5, center = {\"lat\": 9, \"lon\": 39},\n",
    "                        opacity=0.5,\n",
    "                        hover_name='admin3Name_en',\n",
    "                        hover_data=[\"admin1Name_en\"],\n",
    "                        labels={\n",
    "                            'Population_Density':'Population Density',\n",
    "                            'Total_Population':'Total Population',\n",
    "                            'admin1Name_en':'Province',\n",
    "                            'Area_Km':'Square Kilometer'\n",
    "                                },\n",
    "                        title = TITLE\n",
    "                          )\n",
    "    \n",
    "    Figure.update_layout(\n",
    "    margin={\"r\":0,\"t\":0,\"l\":0,\"b\":0},\n",
    "    title={\n",
    "            'text': TITLE,\n",
    "            'y':0.9,\n",
    "            'x':0.4,\n",
    "            'xanchor': 'center',\n",
    "            'yanchor': 'top'}\n",
    "    )\n",
    "    return Figure\n",
    "\n",
    "JSON_ON     = counties3\n",
    "Location_ON = 'admin3Pcode'\n",
    "Feature_ON  = 'properties.ADM3_PCODE'\n",
    "Color_ON    = 'Total'\n",
    "\n",
    "Total = 100\n",
    "\n"
   ]
  },
  {
   "cell_type": "code",
   "execution_count": 4,
   "metadata": {},
   "outputs": [
    {
     "ename": "NameError",
     "evalue": "name 'Sites_Rollout' is not defined",
     "output_type": "error",
     "traceback": [
      "\u001b[1;31m---------------------------------------------------------------------------\u001b[0m",
      "\u001b[1;31mNameError\u001b[0m                                 Traceback (most recent call last)",
      "\u001b[1;32m<ipython-input-4-f875752866ea>\u001b[0m in \u001b[0;36m<module>\u001b[1;34m\u001b[0m\n\u001b[0;32m      1\u001b[0m \u001b[1;31m#Finding a locaiton based on its name.\u001b[0m\u001b[1;33m\u001b[0m\u001b[1;33m\u001b[0m\u001b[1;33m\u001b[0m\u001b[0m\n\u001b[1;32m----> 2\u001b[1;33m \u001b[0mLTC_Test\u001b[0m \u001b[1;33m=\u001b[0m \u001b[0mSites_Rollout\u001b[0m\u001b[1;33m[\u001b[0m\u001b[1;33m(\u001b[0m\u001b[0mSites_Rollout\u001b[0m\u001b[1;33m[\u001b[0m\u001b[1;34m'admin3Pcode'\u001b[0m\u001b[1;33m]\u001b[0m\u001b[1;33m==\u001b[0m\u001b[1;34m'ET040714'\u001b[0m\u001b[1;33m)\u001b[0m\u001b[1;33m]\u001b[0m\u001b[1;33m\u001b[0m\u001b[1;33m\u001b[0m\u001b[0m\n\u001b[0m\u001b[0;32m      3\u001b[0m \u001b[0mTest_Map\u001b[0m \u001b[1;33m=\u001b[0m \u001b[0mCHOROMAP\u001b[0m\u001b[1;33m(\u001b[0m\u001b[0mLTC_Test\u001b[0m\u001b[1;33m,\u001b[0m\u001b[0mJSON_ON\u001b[0m\u001b[1;33m,\u001b[0m \u001b[0mLocation_ON\u001b[0m\u001b[1;33m,\u001b[0m \u001b[0mFeature_ON\u001b[0m\u001b[1;33m,\u001b[0m \u001b[0mColor_ON\u001b[0m\u001b[1;33m,\u001b[0m \u001b[1;36m1\u001b[0m\u001b[1;33m,\u001b[0m \u001b[1;36m25\u001b[0m\u001b[1;33m,\u001b[0m \u001b[1;34m'Site Type: LTC Location'\u001b[0m\u001b[1;33m)\u001b[0m\u001b[1;33m\u001b[0m\u001b[1;33m\u001b[0m\u001b[0m\n\u001b[0;32m      4\u001b[0m \u001b[0mplotly\u001b[0m\u001b[1;33m.\u001b[0m\u001b[0moffline\u001b[0m\u001b[1;33m.\u001b[0m\u001b[0mplot\u001b[0m\u001b[1;33m(\u001b[0m\u001b[0mTest_Map\u001b[0m\u001b[1;33m,\u001b[0m \u001b[0mfilename\u001b[0m\u001b[1;33m=\u001b[0m\u001b[1;34mr'C:\\Users\\johnmeye\\Documents\\GitHub\\Ethiopia\\Plotly\\Test_Map.html'\u001b[0m\u001b[1;33m,\u001b[0m \u001b[0mauto_open\u001b[0m\u001b[1;33m=\u001b[0m\u001b[1;32mTrue\u001b[0m\u001b[1;33m)\u001b[0m\u001b[1;33m\u001b[0m\u001b[1;33m\u001b[0m\u001b[0m\n",
      "\u001b[1;31mNameError\u001b[0m: name 'Sites_Rollout' is not defined"
     ]
    }
   ],
   "source": [
    "#Finding a locaiton based on its name. \n",
    "LTC_Test = Sites_Rollout[(Sites_Rollout['admin3Pcode']=='ET040714')]\n",
    "Test_Map = CHOROMAP(LTC_Test,JSON_ON, Location_ON, Feature_ON, Color_ON, 1, 25, 'Site Type: LTC Location')\n",
    "plotly.offline.plot(Test_Map, filename=r'C:\\Users\\johnmeye\\Documents\\GitHub\\Ethiopia\\Plotly\\Test_Map.html', auto_open=True)"
   ]
  }
 ],
 "metadata": {
  "kernelspec": {
   "display_name": "Python 3",
   "language": "python",
   "name": "python3"
  },
  "language_info": {
   "codemirror_mode": {
    "name": "ipython",
    "version": 3
   },
   "file_extension": ".py",
   "mimetype": "text/x-python",
   "name": "python",
   "nbconvert_exporter": "python",
   "pygments_lexer": "ipython3",
   "version": "3.7.6"
  }
 },
 "nbformat": 4,
 "nbformat_minor": 4
}
